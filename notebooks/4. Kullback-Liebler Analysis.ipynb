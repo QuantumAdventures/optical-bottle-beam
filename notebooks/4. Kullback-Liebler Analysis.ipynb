{
 "cells": [
  {
   "cell_type": "markdown",
   "id": "c8f6cc3d",
   "metadata": {},
   "source": [
    "### Kullback Leibler method\n",
    "\n",
    "This notebook shows the use of the Kullback-Leibler divergence method to check similarity between the measures and different simulations, these simulations were made considering different values of numerical aberture (NA). \n",
    "\n",
    "Considering two probability distributions $P$ and $Q_{NA}$, where $P$ represents the measures, $Q_{NA}$ is the probability distribution for a specific NA, constructed with a theoretical data acquiredy. \n",
    "\n",
    "A brief summary of the organization of this notebook:\n",
    "\n",
    "### Summary\n",
    "\n",
    "- [1 - Packages and imports](#1)\n",
    "\n",
    "- [2 - Load data from simulations](#2)\n",
    "\n",
    "- [3 - Kullback Leibler method](#3)"
   ]
  },
  {
   "cell_type": "markdown",
   "id": "69053467",
   "metadata": {},
   "source": [
    "<a name='1'></a> \n",
    "### 1. Packages and imports"
   ]
  },
  {
   "cell_type": "code",
   "execution_count": 117,
   "id": "d2d8373b",
   "metadata": {},
   "outputs": [],
   "source": [
    "import os\n",
    "import numpy as np\n",
    "import pandas as pd\n",
    "import seaborn as sns\n",
    "import matplotlib.pyplot as plt\n",
    "from tqdm import tqdm\n",
    "from scipy.special import rel_entr\n",
    "from scipy import stats\n",
    "from scipy.stats import norm\n",
    "plt.rcParams[\"figure.autolayout\"] = True\n",
    "plt.rcParams[\"axes.edgecolor\"] = \"black\"\n",
    "plt.rcParams[\"axes.linewidth\"] = 2\n",
    "plt.rcParams.update({'font.size': 15})"
   ]
  },
  {
   "cell_type": "markdown",
   "id": "d1373528",
   "metadata": {},
   "source": [
    "<a name='2'></a> \n",
    "### 2. Load data from simulations and experiment and preprocessing\n",
    "\n",
    "The data loaded here is disposed in a folder entitled as `data`, which can be found in the root folder of the project, inside the `data` folder there will be a `simulations` folder, and lastly this, will be a subfolder named as `kl`.\n",
    "\n",
    "There will be several `.txt` files, named as, for example  `OBB_positions_NA_34_exp_3.txt`. Each file contains the $x$, $y$ and $z$ coordinates of the particle as a function of time. The name of these files represents the value of NA used and the number of the experiment.\n"
   ]
  },
  {
   "cell_type": "code",
   "execution_count": 118,
   "id": "a7a581e6",
   "metadata": {},
   "outputs": [
    {
     "name": "stderr",
     "output_type": "stream",
     "text": [
      "100%|██████████████████████████████████████████████████████████████████████████████████████████████████████| 206/206 [00:40<00:00,  5.11it/s]\n"
     ]
    }
   ],
   "source": [
    "simulations = {}\n",
    "folder = '../data/simulations/kl'\n",
    "for file in tqdm(os.listdir(folder)):\n",
    "    if file.split('.')[1] == 'txt':\n",
    "        na = file.split('_')[3]\n",
    "        exp_id = file.split('_')[5].split('.')[0]\n",
    "        if simulations.get(na) is not None:\n",
    "            pass\n",
    "        else:\n",
    "            simulations[na] = {}\n",
    "        array = np.loadtxt(f'{folder}/{file}', delimiter=',')\n",
    "        x, y, z = array[0,:], array[1,:], array[2,:]\n",
    "        simulations[na][exp_id] = {'x': x, 'y': y, 'z': z}"
   ]
  },
  {
   "cell_type": "markdown",
   "id": "6750ce1b",
   "metadata": {},
   "source": [
    "Measured datasets obtained from the extraction of data from video is found in the `dataframes` folder, inside `data`. There will be folder for `raw`, `outliers` and `filtered` dataframes. For this analysis the data used was extracted from the longest video, named as `hour.csv`."
   ]
  },
  {
   "cell_type": "code",
   "execution_count": 119,
   "id": "bf25d305",
   "metadata": {},
   "outputs": [
    {
     "data": {
      "text/html": [
       "<div>\n",
       "<style scoped>\n",
       "    .dataframe tbody tr th:only-of-type {\n",
       "        vertical-align: middle;\n",
       "    }\n",
       "\n",
       "    .dataframe tbody tr th {\n",
       "        vertical-align: top;\n",
       "    }\n",
       "\n",
       "    .dataframe thead th {\n",
       "        text-align: right;\n",
       "    }\n",
       "</style>\n",
       "<table border=\"1\" class=\"dataframe\">\n",
       "  <thead>\n",
       "    <tr style=\"text-align: right;\">\n",
       "      <th></th>\n",
       "      <th>filename</th>\n",
       "      <th>radius</th>\n",
       "      <th>z</th>\n",
       "      <th>index</th>\n",
       "      <th>x-um</th>\n",
       "      <th>y-um</th>\n",
       "    </tr>\n",
       "  </thead>\n",
       "  <tbody>\n",
       "    <tr>\n",
       "      <th>0</th>\n",
       "      <td>frame46006.jpg</td>\n",
       "      <td>19.235483</td>\n",
       "      <td>104.048216</td>\n",
       "      <td>46006</td>\n",
       "      <td>8.468811e-09</td>\n",
       "      <td>1.756195e-08</td>\n",
       "    </tr>\n",
       "    <tr>\n",
       "      <th>1</th>\n",
       "      <td>frame20383.jpg</td>\n",
       "      <td>18.836752</td>\n",
       "      <td>107.930095</td>\n",
       "      <td>20383</td>\n",
       "      <td>-6.497804e-09</td>\n",
       "      <td>1.765377e-08</td>\n",
       "    </tr>\n",
       "    <tr>\n",
       "      <th>2</th>\n",
       "      <td>frame49335.jpg</td>\n",
       "      <td>18.309128</td>\n",
       "      <td>107.099475</td>\n",
       "      <td>49335</td>\n",
       "      <td>-3.161867e-09</td>\n",
       "      <td>-2.705666e-08</td>\n",
       "    </tr>\n",
       "    <tr>\n",
       "      <th>3</th>\n",
       "      <td>frame10240.jpg</td>\n",
       "      <td>17.793230</td>\n",
       "      <td>106.272967</td>\n",
       "      <td>10240</td>\n",
       "      <td>-5.420442e-09</td>\n",
       "      <td>-1.591671e-08</td>\n",
       "    </tr>\n",
       "    <tr>\n",
       "      <th>4</th>\n",
       "      <td>frame56215.jpg</td>\n",
       "      <td>18.137596</td>\n",
       "      <td>105.154529</td>\n",
       "      <td>56215</td>\n",
       "      <td>7.311082e-09</td>\n",
       "      <td>2.798151e-08</td>\n",
       "    </tr>\n",
       "  </tbody>\n",
       "</table>\n",
       "</div>"
      ],
      "text/plain": [
       "         filename     radius           z  index          x-um          y-um\n",
       "0  frame46006.jpg  19.235483  104.048216  46006  8.468811e-09  1.756195e-08\n",
       "1  frame20383.jpg  18.836752  107.930095  20383 -6.497804e-09  1.765377e-08\n",
       "2  frame49335.jpg  18.309128  107.099475  49335 -3.161867e-09 -2.705666e-08\n",
       "3  frame10240.jpg  17.793230  106.272967  10240 -5.420442e-09 -1.591671e-08\n",
       "4  frame56215.jpg  18.137596  105.154529  56215  7.311082e-09  2.798151e-08"
      ]
     },
     "execution_count": 119,
     "metadata": {},
     "output_type": "execute_result"
    }
   ],
   "source": [
    "measures = pd.read_csv('../data/dataframes/filtered/hour.csv')\n",
    "measures.head()"
   ]
  },
  {
   "cell_type": "markdown",
   "id": "78fd50d4",
   "metadata": {},
   "source": [
    "After loading both simulations and experiment datasets, the simulations dataset are going to be reorganized in a way to fill a 3D tensor for each NA simulated. This tensor is going to be $99999\\times 5 \\times 3$, where $5$ is the number of experiment done for that NA."
   ]
  },
  {
   "cell_type": "code",
   "execution_count": 120,
   "id": "dc746ab7",
   "metadata": {},
   "outputs": [],
   "source": [
    "N = 99999\n",
    "averaged = {}\n",
    "for key in simulations.keys():\n",
    "    if int(key)>=28:\n",
    "        sub_dict = simulations[key]\n",
    "        num_exp = len(sub_dict.keys())\n",
    "        pos_array = np.zeros((int(N), int(num_exp), 3))\n",
    "        for sub_key in sub_dict.keys():         \n",
    "            pos_array[:, int(sub_key)-1, 0] = sub_dict[sub_key]['x']\n",
    "            pos_array[:, int(sub_key)-1, 1] = sub_dict[sub_key]['y']\n",
    "            pos_array[:, int(sub_key)-1, 2] = sub_dict[sub_key]['z']\n",
    "        averaged[key] = {'x': pos_array[:,:,0],\n",
    "                         'y': pos_array[:,:,1],\n",
    "                         'z': pos_array[:,:,2]}"
   ]
  },
  {
   "cell_type": "markdown",
   "id": "4dc16fd4",
   "metadata": {},
   "source": [
    "<a name='3'></a> \n",
    "### 3. Kullback Leibler method\n",
    "\n",
    "The KL method analysis two probability distributions, comparing the divergence between then. To apply this methodology the probability distributions that are encountered from the data must be computed first. An auxiliary function `create_pdf` creates the probability distribution function from a specific array and for a given interval of variables. In the following cells an example of the usage of this function is showed."
   ]
  },
  {
   "cell_type": "code",
   "execution_count": 121,
   "id": "b8b8d558",
   "metadata": {},
   "outputs": [],
   "source": [
    "def create_pdf(measure, group_r):\n",
    "    df = pd.DataFrame()\n",
    "    df['measure'] = measure\n",
    "    groups = df.groupby([pd.cut(df.measure, group_r)], as_index=False)\n",
    "    grouped_df = groups.size().unstack()\n",
    "    return grouped_df['size'].values/grouped_df['size'].values.sum()"
   ]
  },
  {
   "cell_type": "code",
   "execution_count": 122,
   "id": "224ca8e9",
   "metadata": {},
   "outputs": [],
   "source": [
    "pdf = create_pdf(measures['x-um'], np.linspace(measures['x-um'].values.min(), measures['x-um'].values.max(), 25))"
   ]
  },
  {
   "cell_type": "code",
   "execution_count": 123,
   "id": "51d9ea04",
   "metadata": {},
   "outputs": [
    {
     "data": {
      "image/png": "[encoded data removed]",
      "text/plain": [
       "<Figure size 640x480 with 1 Axes>"
      ]
     },
     "metadata": {},
     "output_type": "display_data"
    }
   ],
   "source": [
    "plt.plot(pdf)\n",
    "plt.ylabel(r'$PDF_x$')\n",
    "plt.xlabel(r'x ($\\mu m$) ')\n",
    "plt.grid()\n",
    "plt.show()"
   ]
  },
  {
   "cell_type": "markdown",
   "id": "315bf9a2",
   "metadata": {},
   "source": [
    "Finally, we may define the functino that will be responsible for the magic that is computing the KL divergence\n",
    "\n",
    "$$\n",
    "D_{KL}(P|Q) = \\sum_{x\\in X}P(x)\\log\\Big(\\frac{P(x)}{Q(x)}\\Big)\n",
    "$$\n",
    "\n",
    "An value of epsilon is added to avoid divisions by zero."
   ]
  },
  {
   "cell_type": "code",
   "execution_count": 124,
   "id": "bdd438ad",
   "metadata": {},
   "outputs": [],
   "source": [
    "def kl_divergence(a, b, epsilon=10**-12):\n",
    "    a = np.asarray(a, dtype=np.float) + epsilon\n",
    "    b = np.asarray(b, dtype=np.float) + epsilon\n",
    "    return np.sum(np.where(a != 0, a * np.log(a / b), 0))"
   ]
  },
  {
   "cell_type": "markdown",
   "id": "e0c478c1",
   "metadata": {},
   "source": [
    "Now the KL divergence can be computed for each NA and each experiment made, allowing to fill the columns of a dataframe. The KL of each experiment and NA is computed by taking the average between the KL for $x$ and for $y$."
   ]
  },
  {
   "cell_type": "code",
   "execution_count": 125,
   "id": "3b84576f",
   "metadata": {},
   "outputs": [
    {
     "name": "stderr",
     "output_type": "stream",
     "text": [
      "  0%|                                                                                                                 | 0/33 [00:00<?, ?it/s]/tmp/ipykernel_22708/789988432.py:2: DeprecationWarning: `np.float` is a deprecated alias for the builtin `float`. To silence this warning, use `float` by itself. Doing this will not modify any behavior and is safe. If you specifically wanted the numpy scalar type, use `np.float64` here.\n",
      "Deprecated in NumPy 1.20; for more details and guidance: https://numpy.org/devdocs/release/1.20.0-notes.html#deprecations\n",
      "  a = np.asarray(a, dtype=np.float) + epsilon\n",
      "/tmp/ipykernel_22708/789988432.py:3: DeprecationWarning: `np.float` is a deprecated alias for the builtin `float`. To silence this warning, use `float` by itself. Doing this will not modify any behavior and is safe. If you specifically wanted the numpy scalar type, use `np.float64` here.\n",
      "Deprecated in NumPy 1.20; for more details and guidance: https://numpy.org/devdocs/release/1.20.0-notes.html#deprecations\n",
      "  b = np.asarray(b, dtype=np.float) + epsilon\n",
      "100%|████████████████████████████████████████████████████████████████████████████████████████████████████████| 33/33 [00:15<00:00,  2.07it/s]\n"
     ]
    }
   ],
   "source": [
    "intervals = {'x': np.linspace(measures['x-um'].values.min(), measures['x-um'].values.max(), 100),\n",
    "             'y': np.linspace(measures['y-um'].values.min(), measures['y-um'].values.max(), 100)}\n",
    "nas, kls, axiss, exp = [], [], [], []\n",
    "for key in tqdm(averaged.keys()):\n",
    "    for axis in ['x', 'y']:\n",
    "        for i in range(averaged[key][axis].shape[1]):\n",
    "            nas.append(0.01*int(key))\n",
    "            sim = averaged[key][axis][:,i] - averaged[key][axis][:,i].mean()\n",
    "            kls.append(kl_divergence(create_pdf(measures[f'{axis}-um'].values, intervals[axis]), \n",
    "                                     create_pdf(sim, intervals[axis])))\n",
    "            axiss.append(axis)\n",
    "            exp.append(i)"
   ]
  },
  {
   "cell_type": "code",
   "execution_count": 126,
   "id": "c806814d",
   "metadata": {},
   "outputs": [
    {
     "data": {
      "text/html": [
       "<div>\n",
       "<style scoped>\n",
       "    .dataframe tbody tr th:only-of-type {\n",
       "        vertical-align: middle;\n",
       "    }\n",
       "\n",
       "    .dataframe tbody tr th {\n",
       "        vertical-align: top;\n",
       "    }\n",
       "\n",
       "    .dataframe thead th {\n",
       "        text-align: right;\n",
       "    }\n",
       "</style>\n",
       "<table border=\"1\" class=\"dataframe\">\n",
       "  <thead>\n",
       "    <tr style=\"text-align: right;\">\n",
       "      <th></th>\n",
       "      <th>na</th>\n",
       "      <th>exp</th>\n",
       "      <th>kl</th>\n",
       "    </tr>\n",
       "  </thead>\n",
       "  <tbody>\n",
       "    <tr>\n",
       "      <th>0</th>\n",
       "      <td>0.28</td>\n",
       "      <td>0</td>\n",
       "      <td>0.420763</td>\n",
       "    </tr>\n",
       "    <tr>\n",
       "      <th>1</th>\n",
       "      <td>0.28</td>\n",
       "      <td>1</td>\n",
       "      <td>0.877014</td>\n",
       "    </tr>\n",
       "    <tr>\n",
       "      <th>2</th>\n",
       "      <td>0.28</td>\n",
       "      <td>2</td>\n",
       "      <td>0.547062</td>\n",
       "    </tr>\n",
       "    <tr>\n",
       "      <th>3</th>\n",
       "      <td>0.28</td>\n",
       "      <td>3</td>\n",
       "      <td>0.476781</td>\n",
       "    </tr>\n",
       "    <tr>\n",
       "      <th>4</th>\n",
       "      <td>0.28</td>\n",
       "      <td>4</td>\n",
       "      <td>0.714051</td>\n",
       "    </tr>\n",
       "  </tbody>\n",
       "</table>\n",
       "</div>"
      ],
      "text/plain": [
       "     na  exp        kl\n",
       "0  0.28    0  0.420763\n",
       "1  0.28    1  0.877014\n",
       "2  0.28    2  0.547062\n",
       "3  0.28    3  0.476781\n",
       "4  0.28    4  0.714051"
      ]
     },
     "execution_count": 126,
     "metadata": {},
     "output_type": "execute_result"
    }
   ],
   "source": [
    "df = pd.DataFrame()\n",
    "df['na'] = nas\n",
    "df['kl'] = kls\n",
    "df['axis'] = axiss\n",
    "df['exp'] = exp\n",
    "df = df.groupby(by=['na', 'exp'], as_index=False).mean()\n",
    "df.head()"
   ]
  },
  {
   "cell_type": "code",
   "execution_count": 127,
   "id": "ae596b45",
   "metadata": {},
   "outputs": [],
   "source": [
    "mean = df.groupby(by=['na'], as_index=False).mean()['kl'].values\n",
    "std = df.groupby(by=['na'], as_index=False).std()['kl'].values\n",
    "na = df.groupby(by=['na'], as_index=False).mean()['na'].values"
   ]
  },
  {
   "cell_type": "code",
   "execution_count": 128,
   "id": "fe11f6cb",
   "metadata": {},
   "outputs": [
    {
     "data": {
      "image/png": "[encoded data removed]",
      "text/plain": [
       "<Figure size 640x480 with 1 Axes>"
      ]
     },
     "metadata": {},
     "output_type": "display_data"
    }
   ],
   "source": [
    "plt.errorbar(na, mean, std, linewidth=2, alpha=0.5, markersize=6)\n",
    "plt.ylabel('K-L Divergence')\n",
    "plt.xlabel('NA')\n",
    "plt.grid()\n",
    "plt.xticks(np.arange(0.28,0.61,0.05))\n",
    "plt.savefig('kullback_leibler.pdf', dpi=300)\n",
    "plt.show()"
   ]
  },
  {
   "cell_type": "code",
   "execution_count": 129,
   "id": "75a12557",
   "metadata": {},
   "outputs": [],
   "source": [
    "df = pd.DataFrame()\n",
    "df['na'] = na\n",
    "df['mean'] = mean\n",
    "df['std'] = std\n",
    "df.head()\n",
    "df.to_csv('../data/results/kl.csv', index=None)"
   ]
  }
 ],
 "metadata": {
  "kernelspec": {
   "display_name": "Python 3 (ipykernel)",
   "language": "python",
   "name": "python3"
  },
  "language_info": {
   "codemirror_mode": {
    "name": "ipython",
    "version": 3
   },
   "file_extension": ".py",
   "mimetype": "text/x-python",
   "name": "python",
   "nbconvert_exporter": "python",
   "pygments_lexer": "ipython3",
   "version": "3.8.5"
  }
 },
 "nbformat": 4,
 "nbformat_minor": 5
}
