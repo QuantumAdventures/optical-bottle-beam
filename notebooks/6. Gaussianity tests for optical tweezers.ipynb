{
 "cells": [
  {
   "cell_type": "markdown",
   "id": "77f37bcf",
   "metadata": {},
   "source": [
    "### Gaussianity tests for optical tweezers\n",
    "\n",
    "This notebook execute hypothesis tests to check if the data follows a gaussian distribution.\n",
    "A brief summary of the organization of this notebook:\n",
    "\n",
    "### Summary\n",
    "\n",
    "- [1 - Packages and imports](#1)\n",
    "\n",
    "- [2 - Load datasets](#2)\n",
    "\n",
    "- [3 - Kolmogorov Smirnov tests](#3)"
   ]
  },
  {
   "cell_type": "markdown",
   "id": "2c9f969c",
   "metadata": {},
   "source": [
    "### 1. Packages and imports"
   ]
  },
  {
   "cell_type": "code",
   "execution_count": 127,
   "id": "e7588e18",
   "metadata": {},
   "outputs": [],
   "source": [
    "import numpy as np\n",
    "import pandas as pd\n",
    "import seaborn as sns\n",
    "import matplotlib.pyplot as plt\n",
    "from scipy import stats\n",
    "from scipy.signal import correlate\n",
    "from scipy.optimize import curve_fit\n",
    "rng_seed = np.random.default_rng(12345)"
   ]
  },
  {
   "cell_type": "markdown",
   "id": "f30c113c",
   "metadata": {},
   "source": [
    "### 2. Load datasets"
   ]
  },
  {
   "cell_type": "code",
   "execution_count": 128,
   "id": "9bbd6c7c",
   "metadata": {},
   "outputs": [],
   "source": [
    "folder = '../data/quadrant'\n",
    "sim_x = np.loadtxt(f'{folder}/mean_data_x_OBB.txt')\n",
    "sim_y = np.loadtxt(f'{folder}/mean_data_y_OBB.txt')\n",
    "sim_z = np.loadtxt(f'{folder}/mean_data_z_OBB.txt')\n",
    "measures = pd.read_csv('../data/dataframes/filtered/hour.csv')\n",
    "x = measures['x-um'].values\n",
    "y = measures['y-um'].values\n",
    "z = measures['z'].values"
   ]
  },
  {
   "cell_type": "markdown",
   "id": "c5efe51e",
   "metadata": {},
   "source": [
    "### 3. Kolmogorov Smirnov tests"
   ]
  },
  {
   "cell_type": "code",
   "execution_count": 129,
   "id": "57b04660",
   "metadata": {},
   "outputs": [
    {
     "name": "stdout",
     "output_type": "stream",
     "text": [
      "KS Test for OBB - Experimental\n",
      "KstestResult(statistic=0.020166055102929237, pvalue=8.612078168908225e-12)\n",
      "KstestResult(statistic=0.021487654704894554, pvalue=2.4933943642060695e-13)\n",
      "KstestResult(statistic=0.009406679519870675, pvalue=0.006709453444186666)\n"
     ]
    }
   ],
   "source": [
    "print('KS Test for OBB - Experimental')\n",
    "print(stats.kstest(x, np.random.normal(x.mean(), x.std(), x.shape[0])))\n",
    "print(stats.kstest(y, np.random.normal(y.mean(), y.std(), y.shape[0])))\n",
    "print(stats.kstest(z, np.random.normal(z.mean(), z.std(), z.shape[0])))"
   ]
  },
  {
   "cell_type": "code",
   "execution_count": 130,
   "id": "c265e373",
   "metadata": {},
   "outputs": [],
   "source": [
    "sim_x = np.loadtxt(f'{folder}/mean_data_x_OTT.txt')\n",
    "sim_y = np.loadtxt(f'{folder}/mean_data_y_OTT.txt')\n",
    "sim_z = np.loadtxt(f'{folder}/mean_data_z_OTT.txt')"
   ]
  },
  {
   "cell_type": "code",
   "execution_count": 131,
   "id": "b9dddeb1",
   "metadata": {},
   "outputs": [
    {
     "name": "stdout",
     "output_type": "stream",
     "text": [
      "KS Test for Bright Optical Tweezer - Experimental\n",
      "KstestResult(statistic=0.026410564225690276, pvalue=0.34813531659320585)\n",
      "KstestResult(statistic=0.028811524609843937, pvalue=0.25079157587417367)\n",
      "KstestResult(statistic=0.05562224889955982, pvalue=0.000875436525240971)\n"
     ]
    }
   ],
   "source": [
    "print('KS Test for Bright Optical Tweezer - Experimental')\n",
    "print(stats.kstest(sim_x, np.random.normal(sim_x.mean(), sim_x.std(), sim_x.shape[0])))\n",
    "print(stats.kstest(sim_y, np.random.normal(sim_y.mean(), sim_y.std(), sim_y.shape[0])))\n",
    "print(stats.kstest(sim_z, np.random.normal(sim_z.mean(), sim_z.std(), sim_z.shape[0])))"
   ]
  }
 ],
 "metadata": {
  "kernelspec": {
   "display_name": "Python 3 (ipykernel)",
   "language": "python",
   "name": "python3"
  },
  "language_info": {
   "codemirror_mode": {
    "name": "ipython",
    "version": 3
   },
   "file_extension": ".py",
   "mimetype": "text/x-python",
   "name": "python",
   "nbconvert_exporter": "python",
   "pygments_lexer": "ipython3",
   "version": "3.8.5"
  }
 },
 "nbformat": 4,
 "nbformat_minor": 5
}
